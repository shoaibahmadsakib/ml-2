{
 "cells": [
  {
   "cell_type": "code",
   "execution_count": 1,
   "id": "1911c432",
   "metadata": {},
   "outputs": [
    {
     "data": {
      "text/html": [
       "<div>\n",
       "<style scoped>\n",
       "    .dataframe tbody tr th:only-of-type {\n",
       "        vertical-align: middle;\n",
       "    }\n",
       "\n",
       "    .dataframe tbody tr th {\n",
       "        vertical-align: top;\n",
       "    }\n",
       "\n",
       "    .dataframe thead th {\n",
       "        text-align: right;\n",
       "    }\n",
       "</style>\n",
       "<table border=\"1\" class=\"dataframe\">\n",
       "  <thead>\n",
       "    <tr style=\"text-align: right;\">\n",
       "      <th></th>\n",
       "      <th>sky</th>\n",
       "      <th>air temp</th>\n",
       "      <th>humidity</th>\n",
       "      <th>wind</th>\n",
       "      <th>water</th>\n",
       "      <th>forecast</th>\n",
       "      <th>enjoy spot</th>\n",
       "    </tr>\n",
       "  </thead>\n",
       "  <tbody>\n",
       "    <tr>\n",
       "      <th>0</th>\n",
       "      <td>suny</td>\n",
       "      <td>warm</td>\n",
       "      <td>normal</td>\n",
       "      <td>strong</td>\n",
       "      <td>warm</td>\n",
       "      <td>same</td>\n",
       "      <td>yes</td>\n",
       "    </tr>\n",
       "    <tr>\n",
       "      <th>1</th>\n",
       "      <td>suny</td>\n",
       "      <td>warm</td>\n",
       "      <td>high</td>\n",
       "      <td>strong</td>\n",
       "      <td>warm</td>\n",
       "      <td>same</td>\n",
       "      <td>yes</td>\n",
       "    </tr>\n",
       "    <tr>\n",
       "      <th>2</th>\n",
       "      <td>rainy</td>\n",
       "      <td>cold</td>\n",
       "      <td>high</td>\n",
       "      <td>strong</td>\n",
       "      <td>warm</td>\n",
       "      <td>change</td>\n",
       "      <td>no</td>\n",
       "    </tr>\n",
       "    <tr>\n",
       "      <th>3</th>\n",
       "      <td>suny</td>\n",
       "      <td>warm</td>\n",
       "      <td>high</td>\n",
       "      <td>strong</td>\n",
       "      <td>cool</td>\n",
       "      <td>change</td>\n",
       "      <td>yes</td>\n",
       "    </tr>\n",
       "  </tbody>\n",
       "</table>\n",
       "</div>"
      ],
      "text/plain": [
       "     sky air temp humidity    wind water forecast enjoy spot\n",
       "0   suny     warm   normal  strong  warm     same        yes\n",
       "1   suny     warm     high  strong  warm     same        yes\n",
       "2  rainy     cold     high  strong  warm   change         no\n",
       "3   suny     warm     high  strong  cool   change        yes"
      ]
     },
     "execution_count": 1,
     "metadata": {},
     "output_type": "execute_result"
    }
   ],
   "source": [
    "import pandas as pd\n",
    "import numpy as np\n",
    "data=pd.read_csv('dataSet.csv')\n",
    "data"
   ]
  },
  {
   "cell_type": "code",
   "execution_count": 2,
   "id": "00793083",
   "metadata": {},
   "outputs": [
    {
     "name": "stdout",
     "output_type": "stream",
     "text": [
      "[['suny' 'warm' 'normal' 'strong' 'warm' 'same']\n",
      " ['suny' 'warm' 'high' 'strong' 'warm' 'same']\n",
      " ['rainy' 'cold' 'high' 'strong' 'warm' 'change']\n",
      " ['suny' 'warm' 'high' 'strong' 'cool' 'change']]\n",
      "['yes' 'yes' 'no' 'yes']\n"
     ]
    }
   ],
   "source": [
    "#Leave the last column\n",
    "concept=np.array(data)[:,:-1]\n",
    "#only access the last column\n",
    "target=np.array(data)[:,-1]\n",
    "print(concept)\n",
    "# concept\n",
    "# target\n",
    "print(target)"
   ]
  },
  {
   "cell_type": "code",
   "execution_count": 3,
   "id": "f46e7bbb",
   "metadata": {},
   "outputs": [],
   "source": [
    "def train(concept,target):\n",
    "    for i,value in enumerate(target):\n",
    "        if value.lower()=='yes':\n",
    "            specific_h=concept[i].copy()\n",
    "            break\n",
    "    for i,value in enumerate(concept):\n",
    "        if target[i].lower()=='yes':\n",
    "            for x in range(len(specific_h)):\n",
    "                if value[x]!=specific_h[x]:\n",
    "                    specific_h[x]='?'\n",
    "                else:\n",
    "                    pass;\n",
    "    return specific_h"
   ]
  },
  {
   "cell_type": "code",
   "execution_count": 4,
   "id": "7e5ffd42",
   "metadata": {},
   "outputs": [
    {
     "name": "stdout",
     "output_type": "stream",
     "text": [
      "['suny' 'warm' '?' 'strong' '?' '?']\n"
     ]
    }
   ],
   "source": [
    "result=train(concept,target)\n",
    "print(result)"
   ]
  },
  {
   "cell_type": "code",
   "execution_count": null,
   "id": "b93c71df",
   "metadata": {},
   "outputs": [],
   "source": [
    "day=input(\"Enter 6 word to check :\")\n",
    "day=day.split()\n",
    "check=True"
   ]
  },
  {
   "cell_type": "code",
   "execution_count": null,
   "id": "18335190",
   "metadata": {},
   "outputs": [],
   "source": [
    "for i in range(len(result)):\n",
    "    if result[i]=='?'or result[i]==day[i]:\n",
    "        check=True;\n",
    "    else:\n",
    "        check=False;\n",
    "        break;\n",
    "if check:\n",
    "    print(\"Enjoy sport\")\n",
    "else:\n",
    "    print(\"Not Possible\")"
   ]
  },
  {
   "cell_type": "code",
   "execution_count": null,
   "id": "139dfb2b",
   "metadata": {},
   "outputs": [],
   "source": []
  }
 ],
 "metadata": {
  "kernelspec": {
   "display_name": "Python 3 (ipykernel)",
   "language": "python",
   "name": "python3"
  },
  "language_info": {
   "codemirror_mode": {
    "name": "ipython",
    "version": 3
   },
   "file_extension": ".py",
   "mimetype": "text/x-python",
   "name": "python",
   "nbconvert_exporter": "python",
   "pygments_lexer": "ipython3",
   "version": "3.11.2"
  }
 },
 "nbformat": 4,
 "nbformat_minor": 5
}
