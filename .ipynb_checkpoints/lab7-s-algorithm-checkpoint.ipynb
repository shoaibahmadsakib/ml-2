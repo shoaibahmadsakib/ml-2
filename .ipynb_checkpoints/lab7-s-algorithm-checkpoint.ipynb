{
 "cells": [
  {
   "cell_type": "code",
   "execution_count": null,
   "id": "be91c0a2",
   "metadata": {},
   "outputs": [],
   "source": [
    "import pandas as pd\n",
    "import numpy as np\n"
   ]
  },
  {
   "cell_type": "code",
   "execution_count": null,
   "id": "fe531c0e",
   "metadata": {},
   "outputs": [],
   "source": [
    "data=pd.read_csv('lab7.csv')\n",
    "data"
   ]
  },
  {
   "cell_type": "code",
   "execution_count": null,
   "id": "5e3247c0",
   "metadata": {},
   "outputs": [],
   "source": [
    "# leave the last column\n",
    "concept=np.array(data)[:,:-1]\n",
    "# only access the last column\n",
    "target=np.array(data)[:,-1]\n",
    "print(concept)\n",
    "target"
   ]
  },
  {
   "cell_type": "code",
   "execution_count": null,
   "id": "f0c429ac",
   "metadata": {},
   "outputs": [],
   "source": [
    "def train(concept,target):\n",
    "    for i,value in enumerate(target):\n",
    "        if value.lower()=='yes':\n",
    "            specific_h=concept[i].copy()\n",
    "            break\n",
    "    for i,value in enumerate(concept):\n",
    "        if target[i].lower()=='yes':\n",
    "            for x in range(len(specific_h)):\n",
    "                if value[x]!=specific_h[x]:\n",
    "                    specific_h[x]='?'\n",
    "                else:\n",
    "                    pass;\n",
    "    return specific_h"
   ]
  },
  {
   "cell_type": "code",
   "execution_count": null,
   "id": "8d88b8cf",
   "metadata": {},
   "outputs": [],
   "source": [
    "result=train(concept,target)\n",
    "print(result)"
   ]
  },
  {
   "cell_type": "code",
   "execution_count": null,
   "id": "52e4b5db",
   "metadata": {},
   "outputs": [],
   "source": [
    "day=input(\"Enter 6 word to check:\")\n",
    "day=day.split()\n",
    "check=True"
   ]
  },
  {
   "cell_type": "code",
   "execution_count": null,
   "id": "8ad6e62b",
   "metadata": {},
   "outputs": [],
   "source": [
    "for i in range(len(result)):\n",
    "    if result[i]=='?'or result[i]==day[i]:\n",
    "        check=True;\n",
    "    else:\n",
    "        check=False;\n",
    "        break;\n",
    "if check:\n",
    "    print(\"Enjoy sport\")\n",
    "else:\n",
    "    print(\"Not Possible\")"
   ]
  },
  {
   "cell_type": "code",
   "execution_count": null,
   "id": "e03198ae",
   "metadata": {},
   "outputs": [],
   "source": []
  },
  {
   "cell_type": "code",
   "execution_count": null,
   "id": "c15bb1d2",
   "metadata": {},
   "outputs": [],
   "source": []
  },
  {
   "cell_type": "code",
   "execution_count": null,
   "id": "c848e48c",
   "metadata": {},
   "outputs": [],
   "source": []
  },
  {
   "cell_type": "code",
   "execution_count": null,
   "id": "22f4e43b",
   "metadata": {},
   "outputs": [],
   "source": []
  }
 ],
 "metadata": {
  "kernelspec": {
   "display_name": "Python 3 (ipykernel)",
   "language": "python",
   "name": "python3"
  },
  "language_info": {
   "codemirror_mode": {
    "name": "ipython",
    "version": 3
   },
   "file_extension": ".py",
   "mimetype": "text/x-python",
   "name": "python",
   "nbconvert_exporter": "python",
   "pygments_lexer": "ipython3",
   "version": "3.9.13"
  }
 },
 "nbformat": 4,
 "nbformat_minor": 5
}
